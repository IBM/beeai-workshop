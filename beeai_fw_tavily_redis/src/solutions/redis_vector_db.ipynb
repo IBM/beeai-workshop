{
 "cells": [
  {
   "cell_type": "markdown",
   "id": "4f08bc55a8aeb034",
   "metadata": {
    "collapsed": false
   },
   "source": [
    "# Retrieval Augmented Generation (RAG) with BeeAI\n",
    "\n",
    "In this example, you will...\n",
    "\n",
    "Use:\n",
    "* Hugging Face model X for generate embeddings for documents and queries\n",
    "* Redis vector store to cache and query the embeddings\n",
    "* langchain for...\n",
    "* BeeAI framework to build an AI agent to...\n"
   ]
  },
  {
   "cell_type": "markdown",
   "id": "f0951202bf093c71",
   "metadata": {
    "collapsed": false
   },
   "source": [
    "## Use case\n",
    "\n",
    "TBD: Placeholder for whatever data and use case we use this is a test"
   ]
  },
  {
   "cell_type": "markdown",
   "id": "df02c23d951f416a",
   "metadata": {
    "collapsed": false
   },
   "source": [
    "## Setup"
   ]
  },
  {
   "cell_type": "markdown",
   "id": "3900a01d85cb6f5b",
   "metadata": {
    "collapsed": false
   },
   "source": [
    "### Python package installs\n",
    "\n",
    "> NOTE! Remember to navigate to the `beeai_fw_tavily_redis` folder of this repo and run `uv sync` before running your kernel.  \n",
    "Make sure to choose the kernel that aligns with the uv python environment. The path should look something like `beeai-workshop/beeai_fw_tavily_redis/.venv/bin/python`\n"
   ]
  },
  {
   "cell_type": "code",
   "execution_count": null,
   "id": "51b1f95322f2116d",
   "metadata": {
    "collapsed": false
   },
   "outputs": [],
   "source": [
    "# Python version check\n",
    "import sys\n",
    "assert sys.version_info >= (3, 11) and sys.version_info < (3, 12), \"Use Python 3.11 to run this notebook.\"\n"
   ]
  },
  {
   "cell_type": "markdown",
   "id": "8ebf9cffeea9ecb5",
   "metadata": {
    "collapsed": false
   },
   "source": [
    "### Imports"
   ]
  },
  {
   "cell_type": "code",
   "execution_count": null,
   "id": "d229302d6a664ab3",
   "metadata": {
    "collapsed": false
   },
   "outputs": [],
   "source": [
    "import os\n",
    "import redis\n",
    "from langchain_huggingface import HuggingFaceEmbeddings\n",
    "from langchain_redis import RedisConfig, RedisVectorStore"
   ]
  },
  {
   "cell_type": "markdown",
   "id": "e36e80c3f90deeae",
   "metadata": {
    "collapsed": false
   },
   "source": [
    "### Constants\n",
    "\n",
    "Constants (or variables that you might want to change) are set here and used later in the notebook."
   ]
  },
  {
   "cell_type": "code",
   "execution_count": null,
   "id": "acdfafac672df708",
   "metadata": {
    "collapsed": false
   },
   "outputs": [],
   "source": [
    "EMBEDDINGS_MODEL_NAME = \"sentence-transformers/all-mpnet-base-v2\"\n",
    "REDIS_URL = os.getenv(\"REDIS_URL\", \"redis://localhost:6379\")  # Local Redis default"
   ]
  },
  {
   "cell_type": "markdown",
   "id": "b62404d38db5abe2",
   "metadata": {
    "collapsed": false
   },
   "source": [
    "## Setup for the embeddings model\n",
    "\n",
    "The embeddings model will be used to create embedding vectors from the documents and the queries.\n",
    "With HuggingFaceEmbeddings we can download a sentence-transformers model to run locally for our embeddings."
   ]
  },
  {
   "cell_type": "code",
   "execution_count": null,
   "id": "df274226a1c2ee30",
   "metadata": {
    "collapsed": false
   },
   "outputs": [],
   "source": [
    "embeddings = HuggingFaceEmbeddings(model_name=EMBEDDINGS_MODEL_NAME)"
   ]
  },
  {
   "cell_type": "markdown",
   "id": "1b6af3996ec9b8ef",
   "metadata": {
    "collapsed": false
   },
   "source": [
    "## Setup the vector store\n",
    "\n",
    "Redis is being used as the vector store."
   ]
  },
  {
   "cell_type": "code",
   "execution_count": null,
   "id": "1512c991b35f1157",
   "metadata": {
    "collapsed": false
   },
   "outputs": [],
   "source": [
    "# Test connection with Redis client\n",
    "print(f\"Connecting to Redis at: {REDIS_URL}\")\n",
    "redis_client = redis.from_url(REDIS_URL)\n",
    "print(f\"Connected = {redis_client.ping()}\")"
   ]
  },
  {
   "cell_type": "code",
   "execution_count": null,
   "id": "31021ff23798d3b1",
   "metadata": {
    "collapsed": false
   },
   "outputs": [],
   "source": [
    "# Configure and init the vector store with our embeddings model\n",
    "config = RedisConfig(\n",
    "    index_name=\"internal_docs\",\n",
    "    redis_url=REDIS_URL,\n",
    "    metadata_schema=[\n",
    "        {\"name\": \"document\", \"type\": \"tag\"},\n",
    "    ],\n",
    ")\n",
    "\n",
    "vector_store = RedisVectorStore(embeddings, config=config)"
   ]
  },
  {
   "cell_type": "markdown",
   "id": "c623ac0a8f8f6f8f",
   "metadata": {
    "collapsed": false
   },
   "source": [
    "## Read and split the documents"
   ]
  },
  {
   "cell_type": "code",
   "execution_count": null,
   "id": "ebd90d36dfb5fa3e",
   "metadata": {
    "collapsed": false
   },
   "outputs": [],
   "source": [
    "from langchain_text_splitters import MarkdownHeaderTextSplitter\n",
    "\n",
    "splitter = MarkdownHeaderTextSplitter(\n",
    "    headers_to_split_on=[\n",
    "        (\"#\", \"Header_1\"),\n",
    "        (\"##\", \"Header_2\"),\n",
    "        (\"###\", \"Header_3\"),\n",
    "    ],\n",
    "    strip_headers=True,\n",
    ")\n",
    "    \n",
    "# Get the list of all files in the directory\n",
    "path = '../../example_docs'\n",
    "files = os.listdir(path)\n",
    "\n",
    "n_docs = 0\n",
    "metadata = []\n",
    "splits = []\n",
    "for file in files:\n",
    "    filename = os.path.join(path, file)\n",
    "    if not os.path.isdir(filename) and filename.endswith(\".md\"):\n",
    "        with open(filename) as f:\n",
    "           file_contents = f.read()\n",
    "           n_docs += 1\n",
    "           for split in splitter.split_text(file_contents):\n",
    "               splits.append(split.page_content)\n",
    "               metadata.append({\"document\": filename})\n",
    "                \n",
    "print(f\"{n_docs} documents split in to {len(splits)} chunks of text\")\n"
   ]
  },
  {
   "cell_type": "code",
   "execution_count": null,
   "id": "738ed15322c0157f",
   "metadata": {
    "collapsed": false
   },
   "outputs": [],
   "source": [
    "# Add the text and metadata to the vector store\n",
    "_ids = vector_store.add_texts(splits, metadata)\n",
    "# print(_ids)"
   ]
  },
  {
   "cell_type": "code",
   "execution_count": null,
   "id": "81ff8809fcf42ba9",
   "metadata": {
    "collapsed": false
   },
   "outputs": [],
   "source": [
    "# assumes you're running Redis locally (use --host, --port, --password, --username, to change this)\n",
    "!rvl index listall --port 6379"
   ]
  },
  {
   "cell_type": "code",
   "execution_count": null,
   "id": "3cd7293c9cd0e3fa",
   "metadata": {
    "collapsed": false
   },
   "outputs": [],
   "source": [
    "!rvl index info -i internal_docs --port 6379"
   ]
  },
  {
   "cell_type": "code",
   "execution_count": null,
   "id": "e07a0062a90750b1",
   "metadata": {
    "collapsed": false
   },
   "outputs": [],
   "source": [
    "!rvl stats -i internal_docs --port 6379"
   ]
  },
  {
   "cell_type": "code",
   "execution_count": null,
   "id": "314b941dc53264cb",
   "metadata": {
    "collapsed": false
   },
   "outputs": [],
   "source": [
    "query = \"What is our target market for the pilot?\"\n",
    "results = vector_store.similarity_search(query, k=2)\n",
    "\n",
    "print(\"Simple Similarity Search Results:\")\n",
    "for doc in results:\n",
    "    print(f\"Content: {doc.page_content[:100]}...\")\n",
    "    print(f\"Metadata: {doc.metadata}\")\n",
    "    print()"
   ]
  },
  {
   "cell_type": "code",
   "execution_count": null,
   "id": "6cd865745251719d",
   "metadata": {
    "collapsed": false
   },
   "outputs": [],
   "source": [
    "# Create a retriever\n",
    "\n",
    "retriever = vector_store.as_retriever(search_type=\"similarity\", search_kwargs={\"k\": 2})\n",
    "results = retriever.invoke(\"What is our target market for the pilot?\")\n",
    "for doc in results:\n",
    "    print(f\"Content: {doc.page_content[:100]}...\")\n",
    "    print(f\"Metadata: {doc.metadata}\")\n",
    "    print()"
   ]
  }
 ],
 "metadata": {
  "kernelspec": {
   "display_name": ".venv",
   "language": "python",
   "name": "python3"
  },
  "language_info": {
   "codemirror_mode": {
    "name": "ipython",
    "version": 3
   },
   "file_extension": ".py",
   "mimetype": "text/x-python",
   "name": "python",
   "nbconvert_exporter": "python",
   "pygments_lexer": "ipython3",
   "version": "3.11.11"
  }
 },
 "nbformat": 4,
 "nbformat_minor": 5
}
