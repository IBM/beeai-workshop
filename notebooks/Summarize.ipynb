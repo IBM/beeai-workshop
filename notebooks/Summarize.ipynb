{
 "cells": [
  {
   "cell_type": "markdown",
   "metadata": {
    "id": "Q6rko_ANX0EC"
   },
   "source": [
    "# Document Summarization\n",
    "\n",
    "This notebook demonstrates an application of long document summarization techniques to a work of literature."
   ]
  },
  {
   "cell_type": "markdown",
   "metadata": {},
   "source": [
    "## Setting up the environment"
   ]
  },
  {
   "cell_type": "markdown",
   "metadata": {
    "id": "IwS1CzAbaFzq"
   },
   "source": [
    "### Install Dependencies\n",
    "\n",
    "Granite Kitchen comes with a bundle of dependencies that are required for notebooks. See the list of packages in its [`setup.py`](https://github.com/ibm-granite-community/granite-kitchen/blob/main/setup.py). "
   ]
  },
  {
   "cell_type": "code",
   "execution_count": null,
   "metadata": {
    "id": "2zUHQD71qgqf"
   },
   "outputs": [],
   "source": [
    "! pip install git+https://github.com/ibm-granite-community/granite-kitchen \\\n",
    "    transformers \\\n",
    "    torch \\\n",
    "    tiktoken"
   ]
  },
  {
   "cell_type": "markdown",
   "metadata": {},
   "source": [
    "### Ollama\n",
    "\n",
    "This notebook requires IBM Granite models to be served by a AI model runtime so that the models can be inferred or called. This notebook uses [Ollama](https://github.com/ollama/ollama) to serve the models.\n",
    "\n",
    "The Ollama server can be run locally on your computer or in the notebook itself (notebook needs to be run in [Google Colab](https://colab.research.google.com)). Follow the steps in the section which best suits your needs."
   ]
  },
  {
   "cell_type": "markdown",
   "metadata": {},
   "source": [
    "#### Running Ollama Locally\n",
    "\n",
    "If you have not already done this in the pre-work, you will need to start a local Ollama server.\n",
    "\n",
    "Using the command line on your computer:\n",
    "\n",
    "1. [Download and install Ollama](https://github.com/ollama/ollama?tab=readme-ov-file#ollama), if you haven't already.\n",
    "\n",
    "    On macOS, you can use Homebrew to install with\n",
    "\n",
    "    ```shell\n",
    "    brew install ollama\n",
    "    ```\n",
    "\n",
    "1. Start the Ollama server.\n",
    "\n",
    "    ```shell\n",
    "    ollama serve\n",
    "    ```\n",
    "\n",
    "1. Pull down the Granite models you will want to use in the workshop. Larger models take more memory to run.\n",
    "\n",
    "    ```shell\n",
    "    ollama pull granite-code:3b-instruct\n",
    "    ollama pull granite-code:8b-instruct\n",
    "    ```"
   ]
  },
  {
   "cell_type": "markdown",
   "metadata": {},
   "source": [
    "#### Running Ollama in Colab\n",
    "\n",
    "This section is if you are not going to run the Ollama server locally on your computer. Running the Ollama server in Colab will limit the size of Granite models you can use and be _significantly_ slower when calling the Granite models.\n",
    "\n",
    "1. Download and install Ollama in Colab"
   ]
  },
  {
   "cell_type": "code",
   "execution_count": null,
   "metadata": {},
   "outputs": [],
   "source": [
    "!curl https://ollama.ai/install.sh | sh"
   ]
  },
  {
   "cell_type": "markdown",
   "metadata": {},
   "source": [
    "2. Start the Ollama server as a background process in Colab using `nohup` and `&`"
   ]
  },
  {
   "cell_type": "code",
   "execution_count": null,
   "metadata": {},
   "outputs": [],
   "source": [
    "import os\n",
    "os.system(\"nohup ollama serve &\")"
   ]
  },
  {
   "cell_type": "markdown",
   "metadata": {},
   "source": [
    "3. Pull down the Granite models in Colab that you will use in the workshop. Larger models take more memory to run. The `granite-code:20b` model is too large for the Colab runtime environment."
   ]
  },
  {
   "cell_type": "code",
   "execution_count": null,
   "metadata": {},
   "outputs": [],
   "source": [
    "!ollama pull granite-code:3b-instruct\n",
    "!ollama pull granite-code:8b-instruct"
   ]
  },
  {
   "cell_type": "markdown",
   "metadata": {
    "id": "ydrVWz7EYHh9"
   },
   "source": [
    "## Select your model\n",
    "\n",
    "Select a Granite Code model from the [`granite-code`](https://ollama.com/library/granite-code) org on Ollama. Here we use the Ollama Langchain client to connect to the model."
   ]
  },
  {
   "cell_type": "code",
   "execution_count": null,
   "metadata": {
    "id": "TSkiGBY4qo32"
   },
   "outputs": [],
   "source": [
    "from langchain_ollama.llms import OllamaLLM\n",
    "\n",
    "model = OllamaLLM(model=\"granite-code:3b-instruct\")"
   ]
  },
  {
   "cell_type": "markdown",
   "metadata": {
    "id": "5d0sWaZ7YLHN"
   },
   "source": [
    "## Download a book\n",
    "\n",
    "Here we fetch H.D. Thoreau's \"Walden\" from [Project Gutenberg](https://www.gutenberg.org/) for summarization.\n",
    "\n",
    "We have to trim it down so that it will fit in the 128k-token context window of the model."
   ]
  },
  {
   "cell_type": "code",
   "execution_count": null,
   "metadata": {
    "id": "3JFi40LArpIa"
   },
   "outputs": [],
   "source": [
    "import requests\n",
    "from time import sleep\n",
    "\n",
    "# The following URL contains a text version of H.D. Thoreau's \"Walden\"\n",
    "url = \"https://www.gutenberg.org/cache/epub/205/pg205.txt\"\n",
    "\n",
    "# Get the contents\n",
    "response = requests.get(url)\n",
    "response.raise_for_status()\n",
    "full_contents = response.text\n",
    "\n",
    "# Extract the text of the book, leaving out the gutenberg boilerplate.\n",
    "start_str = \"*** START OF THE PROJECT GUTENBERG EBOOK WALDEN, AND ON THE DUTY OF CIVIL DISOBEDIENCE ***\"\n",
    "start_index = full_contents.index(start_str) + len(start_str)\n",
    "end_str = \"*** END OF THE PROJECT GUTENBERG EBOOK WALDEN, AND ON THE DUTY OF CIVIL DISOBEDIENCE ***\"\n",
    "end_index = full_contents.index(end_str)\n",
    "book_contents = full_contents[start_index:end_index]\n",
    "print(\"Length of book text: {} chars\".format(len(book_contents)))\n",
    "\n",
    "# We limit the text to 200k characters, which is about 57k tokens. (400k chars is ~114k tokens; 300k chars is ~86k tokens; 350k chars is ~100k tokens).\n",
    "char_limit = 10000\n",
    "contents = book_contents[:char_limit]\n",
    "print(\"Length of text for summarization: {} chars\".format(len(contents)))"
   ]
  },
  {
   "cell_type": "markdown",
   "metadata": {
    "id": "HYuQmgRJY0n5"
   },
   "source": [
    "## Count the tokens\n",
    "\n",
    "Before sending our code to the AI model, it's crucial to understand how much of the model's capacity we're using. Language models typically have a limit on the number of tokens they can process in a single request.\n",
    "\n",
    "Key points:\n",
    "- We're using the [`granite-3B-Code-instruct-128k`](https://huggingface.co/ibm-granite/granite-3b-code-instruct-128k) model, which has a context window of 128,000 tokens.\n",
    "- Tokenization can vary between models, so we use the specific tokenizer for our chosen model.\n",
    "\n",
    "Understanding token count helps us optimize our prompts and ensure we're using the model efficiently."
   ]
  },
  {
   "cell_type": "code",
   "execution_count": null,
   "metadata": {
    "id": "7JqmvTqbWPgl"
   },
   "outputs": [],
   "source": [
    "from transformers import AutoTokenizer\n",
    "\n",
    "model_path = \"ibm-granite/granite-3B-Code-instruct-128k\"\n",
    "tokenizer = AutoTokenizer.from_pretrained(model_path)\n",
    "print(\"Your model uses the tokenizer \" + type(tokenizer).__name__)\n",
    "\n",
    "print(f\"Your document has {len(tokenizer(contents, return_tensors='pt')['input_ids'][0])} tokens. \")"
   ]
  },
  {
   "cell_type": "markdown",
   "metadata": {
    "id": "ygNmITWQZAZ8"
   },
   "source": [
    "## Summarize the text\n",
    "\n",
    "We construct our final prompt and send it to the AI model served by Ollama for processing."
   ]
  },
  {
   "cell_type": "code",
   "execution_count": null,
   "metadata": {
    "id": "yu4HeuqWqvOj"
   },
   "outputs": [],
   "source": [
    "prompt = f\"\"\"\n",
    "Summarize the following text from \"Walden\" by Henry David Thoreau:\n",
    "{contents}\n",
    "\"\"\"\n",
    "\n",
    "output = model.invoke(\n",
    "    prompt,\n",
    "    model_kwargs={\n",
    "        \"max_tokens\": 10000, # Set the maximum number of tokens to generate as output.\n",
    "        \"min_tokens\": 200, # Set the minimum number of tokens to generate as output.\n",
    "        \"temperature\": 0.75,\n",
    "        \"system_prompt\": \"You are a helpful assistant.\",\n",
    "        \"presence_penalty\": 0,\n",
    "        \"frequency_penalty\": 0\n",
    "    }\n",
    "    )\n",
    "\n",
    "print(output)"
   ]
  },
  {
   "cell_type": "markdown",
   "metadata": {},
   "source": [
    "## Summary of Summaries\n",
    "\n",
    "Here we use an iterative summarization technique to adapt to the context length of the model."
   ]
  },
  {
   "cell_type": "markdown",
   "metadata": {},
   "source": [
    "### Chunk the text\n",
    "\n",
    "Divide the full text into smaller passages for separate processing."
   ]
  },
  {
   "cell_type": "code",
   "execution_count": null,
   "metadata": {},
   "outputs": [],
   "source": [
    "from langchain.text_splitter import TokenTextSplitter\n",
    "from langchain.docstore.document import Document\n",
    "\n",
    "excerpt_length = 20000\n",
    "doc =  Document(page_content=book_contents[:excerpt_length], metadata={\"source\": \"local\"})\n",
    "print(f\"The text is {len(doc.page_content)} chars\")\n",
    "\n",
    "# Split the documents into chunks\n",
    "chunk_char_limit = 1000\n",
    "text_splitter = TokenTextSplitter.from_huggingface_tokenizer(tokenizer=tokenizer, chunk_size=chunk_char_limit, chunk_overlap=50)\n",
    "chunks = text_splitter.split_documents([doc])\n",
    "print(f\"Chunk count: {len(chunks)}\")"
   ]
  },
  {
   "cell_type": "markdown",
   "metadata": {},
   "source": [
    "### Summarize the chunks\n",
    "\n",
    "Here we create a separate summary of each passage. This can take a few minutes."
   ]
  },
  {
   "cell_type": "code",
   "execution_count": null,
   "metadata": {},
   "outputs": [],
   "source": [
    "summaries = []\n",
    "\n",
    "for i, chunk in enumerate(chunks):\n",
    "    prompt = f\"\"\"\n",
    "        Summarize the following text from \"Walden\" by Henry David Thoreau:\n",
    "        {chunk}\n",
    "        \"\"\"\n",
    "    output = model.invoke(\n",
    "        prompt,\n",
    "        model_kwargs={\n",
    "            \"max_tokens\": 10000, # Set the maximum number of tokens to generate as output.\n",
    "            \"min_tokens\": 200, # Set the minimum number of tokens to generate as output.\n",
    "            \"temperature\": 0.75,\n",
    "            \"system_prompt\": \"You are a helpful assistant.\",\n",
    "            \"presence_penalty\": 0,\n",
    "            \"frequency_penalty\": 0\n",
    "        }\n",
    "    )\n",
    "    summary = f\"Summary {i+1}:\\n{output}\\n\\n\"\n",
    "    summaries.append(summary)\n",
    "    print(summary)\n",
    "\n",
    "print(\"Summary count: \" + str(len(summaries)))\n"
   ]
  },
  {
   "cell_type": "markdown",
   "metadata": {},
   "source": [
    "### Summarize the Summaries\n",
    "\n",
    "We signal to the model that it is receiving separate summaries of passages from an original text, and to create a unified summary of that text."
   ]
  },
  {
   "cell_type": "code",
   "execution_count": null,
   "metadata": {},
   "outputs": [],
   "source": [
    "summary_contents = \"\\n\\n\".join(summaries)\n",
    "print(len(summary_contents))\n",
    "\n",
    "prompt = f\"\"\"\n",
    "The text of \"Walden\", by Henry David Thoreau, was summarized in separate passages; those passage summaries are provided below.\n",
    "\n",
    "{summary_contents}\n",
    "\n",
    "From these summaries, compose a single lengthy, unified summary of the original text.\n",
    "\"\"\"\n",
    "\n",
    "output = model.invoke(\n",
    "    prompt,\n",
    "    model_kwargs={\n",
    "        \"max_tokens\": 100000, # Set the maximum number of tokens to generate as output.\n",
    "        \"min_tokens\": 5000, # Set the minimum number of tokens to generate as output.\n",
    "        \"temperature\": 0.75,\n",
    "        \"system_prompt\": \"You are a helpful assistant.\",\n",
    "        \"presence_penalty\": 0,\n",
    "        \"frequency_penalty\": 0\n",
    "    }\n",
    "    )\n",
    "\n",
    "print(output)"
   ]
  }
 ],
 "metadata": {
  "colab": {
   "provenance": [],
   "toc_visible": true
  },
  "kernelspec": {
   "display_name": ".venv",
   "language": "python",
   "name": "python3"
  },
  "language_info": {
   "codemirror_mode": {
    "name": "ipython",
    "version": 3
   },
   "file_extension": ".py",
   "mimetype": "text/x-python",
   "name": "python",
   "nbconvert_exporter": "python",
   "pygments_lexer": "ipython3",
   "version": "3.11.10"
  }
 },
 "nbformat": 4,
 "nbformat_minor": 4
}
